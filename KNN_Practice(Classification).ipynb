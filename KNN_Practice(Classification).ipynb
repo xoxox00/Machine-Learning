{
 "cells": [
  {
   "cell_type": "code",
   "execution_count": 41,
   "id": "fb2e5757-c5df-45c8-839a-bf9d5ef25bed",
   "metadata": {},
   "outputs": [],
   "source": [
    "import pandas as pd\n",
    "import matplotlib.pyplot as plt\n",
    "import seaborn as sns\n",
    "from mlxtend.plotting import plot_decision_regions"
   ]
  },
  {
   "cell_type": "code",
   "execution_count": 42,
   "id": "d5de87f9-252c-440b-bc94-97385b6cd9e3",
   "metadata": {},
   "outputs": [],
   "source": [
    "df = pd.read_csv(r\"C:\\Users\\Acer\\Downloads\\Social_Network_Ads_Expanded.csv\")"
   ]
  },
  {
   "cell_type": "code",
   "execution_count": null,
   "id": "e6efa645-2b2d-456f-a3c2-e51679467d99",
   "metadata": {},
   "outputs": [],
   "source": []
  },
  {
   "cell_type": "code",
   "execution_count": 43,
   "id": "8ec5d82f-e9a4-4115-8e59-a31832b2bae9",
   "metadata": {},
   "outputs": [
    {
     "data": {
      "text/html": [
       "<div>\n",
       "<style scoped>\n",
       "    .dataframe tbody tr th:only-of-type {\n",
       "        vertical-align: middle;\n",
       "    }\n",
       "\n",
       "    .dataframe tbody tr th {\n",
       "        vertical-align: top;\n",
       "    }\n",
       "\n",
       "    .dataframe thead th {\n",
       "        text-align: right;\n",
       "    }\n",
       "</style>\n",
       "<table border=\"1\" class=\"dataframe\">\n",
       "  <thead>\n",
       "    <tr style=\"text-align: right;\">\n",
       "      <th></th>\n",
       "      <th>Age</th>\n",
       "      <th>EstimatedSalary</th>\n",
       "      <th>Purchased</th>\n",
       "    </tr>\n",
       "  </thead>\n",
       "  <tbody>\n",
       "    <tr>\n",
       "      <th>0</th>\n",
       "      <td>19</td>\n",
       "      <td>19000</td>\n",
       "      <td>0</td>\n",
       "    </tr>\n",
       "    <tr>\n",
       "      <th>1</th>\n",
       "      <td>35</td>\n",
       "      <td>20000</td>\n",
       "      <td>0</td>\n",
       "    </tr>\n",
       "    <tr>\n",
       "      <th>2</th>\n",
       "      <td>26</td>\n",
       "      <td>43000</td>\n",
       "      <td>0</td>\n",
       "    </tr>\n",
       "    <tr>\n",
       "      <th>3</th>\n",
       "      <td>27</td>\n",
       "      <td>57000</td>\n",
       "      <td>0</td>\n",
       "    </tr>\n",
       "    <tr>\n",
       "      <th>4</th>\n",
       "      <td>19</td>\n",
       "      <td>76000</td>\n",
       "      <td>0</td>\n",
       "    </tr>\n",
       "    <tr>\n",
       "      <th>5</th>\n",
       "      <td>27</td>\n",
       "      <td>58000</td>\n",
       "      <td>0</td>\n",
       "    </tr>\n",
       "    <tr>\n",
       "      <th>6</th>\n",
       "      <td>27</td>\n",
       "      <td>84000</td>\n",
       "      <td>0</td>\n",
       "    </tr>\n",
       "    <tr>\n",
       "      <th>7</th>\n",
       "      <td>32</td>\n",
       "      <td>150000</td>\n",
       "      <td>1</td>\n",
       "    </tr>\n",
       "    <tr>\n",
       "      <th>8</th>\n",
       "      <td>25</td>\n",
       "      <td>33000</td>\n",
       "      <td>0</td>\n",
       "    </tr>\n",
       "    <tr>\n",
       "      <th>9</th>\n",
       "      <td>35</td>\n",
       "      <td>65000</td>\n",
       "      <td>0</td>\n",
       "    </tr>\n",
       "    <tr>\n",
       "      <th>10</th>\n",
       "      <td>26</td>\n",
       "      <td>80000</td>\n",
       "      <td>0</td>\n",
       "    </tr>\n",
       "    <tr>\n",
       "      <th>11</th>\n",
       "      <td>26</td>\n",
       "      <td>52000</td>\n",
       "      <td>0</td>\n",
       "    </tr>\n",
       "    <tr>\n",
       "      <th>12</th>\n",
       "      <td>20</td>\n",
       "      <td>86000</td>\n",
       "      <td>0</td>\n",
       "    </tr>\n",
       "    <tr>\n",
       "      <th>13</th>\n",
       "      <td>32</td>\n",
       "      <td>18000</td>\n",
       "      <td>0</td>\n",
       "    </tr>\n",
       "    <tr>\n",
       "      <th>14</th>\n",
       "      <td>18</td>\n",
       "      <td>82000</td>\n",
       "      <td>0</td>\n",
       "    </tr>\n",
       "    <tr>\n",
       "      <th>15</th>\n",
       "      <td>29</td>\n",
       "      <td>80000</td>\n",
       "      <td>0</td>\n",
       "    </tr>\n",
       "    <tr>\n",
       "      <th>16</th>\n",
       "      <td>47</td>\n",
       "      <td>25000</td>\n",
       "      <td>1</td>\n",
       "    </tr>\n",
       "    <tr>\n",
       "      <th>17</th>\n",
       "      <td>45</td>\n",
       "      <td>26000</td>\n",
       "      <td>1</td>\n",
       "    </tr>\n",
       "    <tr>\n",
       "      <th>18</th>\n",
       "      <td>46</td>\n",
       "      <td>28000</td>\n",
       "      <td>1</td>\n",
       "    </tr>\n",
       "    <tr>\n",
       "      <th>19</th>\n",
       "      <td>48</td>\n",
       "      <td>29000</td>\n",
       "      <td>1</td>\n",
       "    </tr>\n",
       "  </tbody>\n",
       "</table>\n",
       "</div>"
      ],
      "text/plain": [
       "    Age  EstimatedSalary  Purchased\n",
       "0    19            19000          0\n",
       "1    35            20000          0\n",
       "2    26            43000          0\n",
       "3    27            57000          0\n",
       "4    19            76000          0\n",
       "5    27            58000          0\n",
       "6    27            84000          0\n",
       "7    32           150000          1\n",
       "8    25            33000          0\n",
       "9    35            65000          0\n",
       "10   26            80000          0\n",
       "11   26            52000          0\n",
       "12   20            86000          0\n",
       "13   32            18000          0\n",
       "14   18            82000          0\n",
       "15   29            80000          0\n",
       "16   47            25000          1\n",
       "17   45            26000          1\n",
       "18   46            28000          1\n",
       "19   48            29000          1"
      ]
     },
     "execution_count": 43,
     "metadata": {},
     "output_type": "execute_result"
    }
   ],
   "source": [
    "df.head(20)"
   ]
  },
  {
   "cell_type": "code",
   "execution_count": 5,
   "id": "fac60d21-fdd3-49a1-8589-c0c6106f3be9",
   "metadata": {},
   "outputs": [
    {
     "data": {
      "text/plain": [
       "Purchased\n",
       "0    149\n",
       "1     51\n",
       "Name: count, dtype: int64"
      ]
     },
     "execution_count": 5,
     "metadata": {},
     "output_type": "execute_result"
    }
   ],
   "source": [
    "df[\"Purchased\"].value_counts()"
   ]
  },
  {
   "cell_type": "code",
   "execution_count": 7,
   "id": "289140e8-9932-47d0-adb8-542f7b338ec3",
   "metadata": {},
   "outputs": [
    {
     "data": {
      "image/png": "[encoded data removed]",
      "text/plain": [
       "<Figure size 640x480 with 1 Axes>"
      ]
     },
     "metadata": {},
     "output_type": "display_data"
    }
   ],
   "source": [
    "sns.scatterplot(x=\"Age\",y=\"EstimatedSalary\",hue=\"Purchased\",data=df)\n",
    "plt.show()"
   ]
  },
  {
   "cell_type": "code",
   "execution_count": 8,
   "id": "b119ab72-4897-4723-a846-cb0ae84a2588",
   "metadata": {},
   "outputs": [
    {
     "data": {
      "text/plain": [
       "Age                0\n",
       "EstimatedSalary    0\n",
       "Purchased          0\n",
       "dtype: int64"
      ]
     },
     "execution_count": 8,
     "metadata": {},
     "output_type": "execute_result"
    }
   ],
   "source": [
    "df.isnull().sum()"
   ]
  },
  {
   "cell_type": "code",
   "execution_count": 17,
   "id": "ceb07da4-c65a-4c37-ab5e-590e266dd607",
   "metadata": {},
   "outputs": [
    {
     "data": {
      "text/html": [
       "<div>\n",
       "<style scoped>\n",
       "    .dataframe tbody tr th:only-of-type {\n",
       "        vertical-align: middle;\n",
       "    }\n",
       "\n",
       "    .dataframe tbody tr th {\n",
       "        vertical-align: top;\n",
       "    }\n",
       "\n",
       "    .dataframe thead th {\n",
       "        text-align: right;\n",
       "    }\n",
       "</style>\n",
       "<table border=\"1\" class=\"dataframe\">\n",
       "  <thead>\n",
       "    <tr style=\"text-align: right;\">\n",
       "      <th></th>\n",
       "      <th>Age</th>\n",
       "      <th>EstimatedSalary</th>\n",
       "    </tr>\n",
       "  </thead>\n",
       "  <tbody>\n",
       "    <tr>\n",
       "      <th>0</th>\n",
       "      <td>19</td>\n",
       "      <td>19000</td>\n",
       "    </tr>\n",
       "    <tr>\n",
       "      <th>1</th>\n",
       "      <td>35</td>\n",
       "      <td>20000</td>\n",
       "    </tr>\n",
       "    <tr>\n",
       "      <th>2</th>\n",
       "      <td>26</td>\n",
       "      <td>43000</td>\n",
       "    </tr>\n",
       "    <tr>\n",
       "      <th>3</th>\n",
       "      <td>27</td>\n",
       "      <td>57000</td>\n",
       "    </tr>\n",
       "    <tr>\n",
       "      <th>4</th>\n",
       "      <td>19</td>\n",
       "      <td>76000</td>\n",
       "    </tr>\n",
       "    <tr>\n",
       "      <th>...</th>\n",
       "      <td>...</td>\n",
       "      <td>...</td>\n",
       "    </tr>\n",
       "    <tr>\n",
       "      <th>195</th>\n",
       "      <td>45</td>\n",
       "      <td>118746</td>\n",
       "    </tr>\n",
       "    <tr>\n",
       "      <th>196</th>\n",
       "      <td>45</td>\n",
       "      <td>51631</td>\n",
       "    </tr>\n",
       "    <tr>\n",
       "      <th>197</th>\n",
       "      <td>37</td>\n",
       "      <td>87991</td>\n",
       "    </tr>\n",
       "    <tr>\n",
       "      <th>198</th>\n",
       "      <td>47</td>\n",
       "      <td>19014</td>\n",
       "    </tr>\n",
       "    <tr>\n",
       "      <th>199</th>\n",
       "      <td>28</td>\n",
       "      <td>26093</td>\n",
       "    </tr>\n",
       "  </tbody>\n",
       "</table>\n",
       "<p>200 rows × 2 columns</p>\n",
       "</div>"
      ],
      "text/plain": [
       "     Age  EstimatedSalary\n",
       "0     19            19000\n",
       "1     35            20000\n",
       "2     26            43000\n",
       "3     27            57000\n",
       "4     19            76000\n",
       "..   ...              ...\n",
       "195   45           118746\n",
       "196   45            51631\n",
       "197   37            87991\n",
       "198   47            19014\n",
       "199   28            26093\n",
       "\n",
       "[200 rows x 2 columns]"
      ]
     },
     "execution_count": 17,
     "metadata": {},
     "output_type": "execute_result"
    }
   ],
   "source": [
    "x = df.iloc[:,:-1]\n",
    "y = df[\"Purchased\"]"
   ]
  },
  {
   "cell_type": "code",
   "execution_count": 12,
   "id": "6e3f5925-7f5c-4d78-8e72-06fdf0d77565",
   "metadata": {},
   "outputs": [],
   "source": [
    "#Scaling the dataaa\n",
    "from sklearn.preprocessing import StandardScaler"
   ]
  },
  {
   "cell_type": "code",
   "execution_count": 34,
   "id": "a2a0dee8-6129-4454-942d-0f66a35b4174",
   "metadata": {},
   "outputs": [
    {
     "data": {
      "text/html": [
       "<div>\n",
       "<style scoped>\n",
       "    .dataframe tbody tr th:only-of-type {\n",
       "        vertical-align: middle;\n",
       "    }\n",
       "\n",
       "    .dataframe tbody tr th {\n",
       "        vertical-align: top;\n",
       "    }\n",
       "\n",
       "    .dataframe thead th {\n",
       "        text-align: right;\n",
       "    }\n",
       "</style>\n",
       "<table border=\"1\" class=\"dataframe\">\n",
       "  <thead>\n",
       "    <tr style=\"text-align: right;\">\n",
       "      <th></th>\n",
       "      <th>Age</th>\n",
       "      <th>EstimatedSalary</th>\n",
       "    </tr>\n",
       "  </thead>\n",
       "  <tbody>\n",
       "    <tr>\n",
       "      <th>0</th>\n",
       "      <td>-1.543904</td>\n",
       "      <td>-1.430310</td>\n",
       "    </tr>\n",
       "    <tr>\n",
       "      <th>1</th>\n",
       "      <td>-0.195884</td>\n",
       "      <td>-1.406600</td>\n",
       "    </tr>\n",
       "    <tr>\n",
       "      <th>2</th>\n",
       "      <td>-0.954145</td>\n",
       "      <td>-0.861259</td>\n",
       "    </tr>\n",
       "    <tr>\n",
       "      <th>3</th>\n",
       "      <td>-0.869894</td>\n",
       "      <td>-0.529312</td>\n",
       "    </tr>\n",
       "    <tr>\n",
       "      <th>4</th>\n",
       "      <td>-1.543904</td>\n",
       "      <td>-0.078813</td>\n",
       "    </tr>\n",
       "    <tr>\n",
       "      <th>5</th>\n",
       "      <td>-0.869894</td>\n",
       "      <td>-0.505602</td>\n",
       "    </tr>\n",
       "    <tr>\n",
       "      <th>6</th>\n",
       "      <td>-0.869894</td>\n",
       "      <td>0.110871</td>\n",
       "    </tr>\n",
       "    <tr>\n",
       "      <th>7</th>\n",
       "      <td>-0.448638</td>\n",
       "      <td>1.675763</td>\n",
       "    </tr>\n",
       "    <tr>\n",
       "      <th>8</th>\n",
       "      <td>-1.038397</td>\n",
       "      <td>-1.098364</td>\n",
       "    </tr>\n",
       "    <tr>\n",
       "      <th>9</th>\n",
       "      <td>-0.195884</td>\n",
       "      <td>-0.339628</td>\n",
       "    </tr>\n",
       "    <tr>\n",
       "      <th>10</th>\n",
       "      <td>-0.954145</td>\n",
       "      <td>0.016029</td>\n",
       "    </tr>\n",
       "    <tr>\n",
       "      <th>11</th>\n",
       "      <td>-0.954145</td>\n",
       "      <td>-0.647864</td>\n",
       "    </tr>\n",
       "    <tr>\n",
       "      <th>12</th>\n",
       "      <td>-1.459653</td>\n",
       "      <td>0.158292</td>\n",
       "    </tr>\n",
       "    <tr>\n",
       "      <th>13</th>\n",
       "      <td>-0.448638</td>\n",
       "      <td>-1.454021</td>\n",
       "    </tr>\n",
       "    <tr>\n",
       "      <th>14</th>\n",
       "      <td>-1.628155</td>\n",
       "      <td>0.063450</td>\n",
       "    </tr>\n",
       "    <tr>\n",
       "      <th>15</th>\n",
       "      <td>-0.701392</td>\n",
       "      <td>0.016029</td>\n",
       "    </tr>\n",
       "    <tr>\n",
       "      <th>16</th>\n",
       "      <td>0.815131</td>\n",
       "      <td>-1.288047</td>\n",
       "    </tr>\n",
       "    <tr>\n",
       "      <th>17</th>\n",
       "      <td>0.646628</td>\n",
       "      <td>-1.264337</td>\n",
       "    </tr>\n",
       "    <tr>\n",
       "      <th>18</th>\n",
       "      <td>0.730879</td>\n",
       "      <td>-1.216916</td>\n",
       "    </tr>\n",
       "    <tr>\n",
       "      <th>19</th>\n",
       "      <td>0.899382</td>\n",
       "      <td>-1.193205</td>\n",
       "    </tr>\n",
       "  </tbody>\n",
       "</table>\n",
       "</div>"
      ],
      "text/plain": [
       "         Age  EstimatedSalary\n",
       "0  -1.543904        -1.430310\n",
       "1  -0.195884        -1.406600\n",
       "2  -0.954145        -0.861259\n",
       "3  -0.869894        -0.529312\n",
       "4  -1.543904        -0.078813\n",
       "5  -0.869894        -0.505602\n",
       "6  -0.869894         0.110871\n",
       "7  -0.448638         1.675763\n",
       "8  -1.038397        -1.098364\n",
       "9  -0.195884        -0.339628\n",
       "10 -0.954145         0.016029\n",
       "11 -0.954145        -0.647864\n",
       "12 -1.459653         0.158292\n",
       "13 -0.448638        -1.454021\n",
       "14 -1.628155         0.063450\n",
       "15 -0.701392         0.016029\n",
       "16  0.815131        -1.288047\n",
       "17  0.646628        -1.264337\n",
       "18  0.730879        -1.216916\n",
       "19  0.899382        -1.193205"
      ]
     },
     "execution_count": 34,
     "metadata": {},
     "output_type": "execute_result"
    }
   ],
   "source": [
    "sc = StandardScaler()\n",
    "sc.fit(x)\n",
    "x = pd.DataFrame(sc.transform(x),columns=x.columns)\n",
    "x.head(20)"
   ]
  },
  {
   "cell_type": "code",
   "execution_count": 20,
   "id": "8d4d5fb3-cc8e-4621-933e-051fe0841d0f",
   "metadata": {},
   "outputs": [],
   "source": [
    "from sklearn.model_selection import train_test_split"
   ]
  },
  {
   "cell_type": "code",
   "execution_count": 22,
   "id": "9c7987c8-1897-4a84-81fa-dc6f66d30dea",
   "metadata": {},
   "outputs": [],
   "source": [
    "x_train,x_test,y_train,y_test = train_test_split(x,y,test_size=0.2,random_state=42)"
   ]
  },
  {
   "cell_type": "code",
   "execution_count": 23,
   "id": "6c131dee-7b96-459c-8e36-76d227df9b48",
   "metadata": {},
   "outputs": [],
   "source": [
    "from sklearn.neighbors import KNeighborsClassifier"
   ]
  },
  {
   "cell_type": "code",
   "execution_count": 32,
   "id": "366db7ca-5713-4870-be2f-5daf10008067",
   "metadata": {},
   "outputs": [
    {
     "data": {
      "text/plain": [
       "(77.5, 77.5)"
      ]
     },
     "execution_count": 32,
     "metadata": {},
     "output_type": "execute_result"
    }
   ],
   "source": [
    "knn = KNeighborsClassifier(n_neighbors=15)\n",
    "knn.fit(x_train,y_train)\n",
    "knn.score(x_test,y_test)*100,knn.score(x_train,y_train)*100"
   ]
  },
  {
   "cell_type": "code",
   "execution_count": 30,
   "id": "3ac1919a-72b0-4ec5-bfef-80c8cb44bf50",
   "metadata": {},
   "outputs": [
    {
     "name": "stdout",
     "output_type": "stream",
     "text": [
      "1 70.0 100.0\n",
      "2 75.0 83.75\n",
      "3 77.5 85.0\n",
      "4 80.0 85.0\n",
      "5 80.0 81.25\n",
      "6 77.5 81.25\n",
      "7 77.5 79.375\n",
      "8 77.5 78.75\n",
      "9 77.5 80.0\n",
      "10 77.5 78.75\n",
      "11 80.0 80.0\n",
      "12 77.5 78.75\n",
      "13 77.5 79.375\n",
      "14 77.5 78.125\n",
      "15 77.5 77.5\n",
      "16 77.5 78.125\n",
      "17 77.5 76.875\n",
      "18 77.5 78.125\n",
      "19 77.5 77.5\n",
      "20 77.5 78.75\n",
      "21 77.5 78.75\n",
      "22 72.5 75.0\n",
      "23 72.5 74.375\n",
      "24 72.5 75.0\n",
      "25 72.5 75.0\n",
      "26 72.5 75.0\n",
      "27 72.5 75.0\n",
      "28 72.5 75.0\n",
      "29 72.5 75.0\n"
     ]
    }
   ],
   "source": [
    "for i in range(1,30):\n",
    "    knn1 = KNeighborsClassifier(n_neighbors=i)\n",
    "    knn1.fit(x_train,y_train)\n",
    "    print(i,knn1.score(x_test,y_test)*100,knn1.score(x_train,y_train)*100)"
   ]
  },
  {
   "cell_type": "code",
   "execution_count": 40,
   "id": "fc8ed038-04c3-421d-8183-3b59995f68ac",
   "metadata": {},
   "outputs": [
    {
     "name": "stderr",
     "output_type": "stream",
     "text": [
      "C:\\Users\\Acer\\AppData\\Roaming\\Python\\Python313\\site-packages\\sklearn\\utils\\validation.py:2739: UserWarning: X does not have valid feature names, but KNeighborsClassifier was fitted with feature names\n",
      "  warnings.warn(\n"
     ]
    },
    {
     "data": {
      "text/plain": [
       "array([1])"
      ]
     },
     "execution_count": 40,
     "metadata": {},
     "output_type": "execute_result"
    }
   ],
   "source": [
    "knn.predict([[0.730879,-1.216916]])"
   ]
  },
  {
   "cell_type": "code",
   "execution_count": 47,
   "id": "c2f4baf9-aaf4-4545-a378-74ab4aa94a4c",
   "metadata": {},
   "outputs": [
    {
     "name": "stderr",
     "output_type": "stream",
     "text": [
      "C:\\Users\\Acer\\AppData\\Roaming\\Python\\Python313\\site-packages\\sklearn\\utils\\validation.py:2739: UserWarning: X does not have valid feature names, but KNeighborsClassifier was fitted with feature names\n",
      "  warnings.warn(\n"
     ]
    },
    {
     "data": {
      "image/png": "[encoded data removed]",
      "text/plain": [
       "<Figure size 640x480 with 1 Axes>"
      ]
     },
     "metadata": {},
     "output_type": "display_data"
    }
   ],
   "source": [
    "plot_decision_regions(x.to_numpy(),y.to_numpy(),clf=knn)\n",
    "plt.show()"
   ]
  },
  {
   "cell_type": "markdown",
   "id": "a95c8122-8191-4ef0-b7f8-2353a51c43a9",
   "metadata": {},
   "source": [
    "#KNeighborsRegressor"
   ]
  },
  {
   "cell_type": "code",
   "execution_count": 48,
   "id": "4e8f67ae-0b13-4e8a-8153-d7202d8a70ba",
   "metadata": {},
   "outputs": [],
   "source": [
    "from sklearn.neighbors import KNeighborsRegressor"
   ]
  },
  {
   "cell_type": "code",
   "execution_count": 54,
   "id": "e5a1c113-c2a5-449f-a32c-175b1843e270",
   "metadata": {},
   "outputs": [
    {
     "data": {
      "text/plain": [
       "(6.927899686520389, 13.108333333333345)"
      ]
     },
     "execution_count": 54,
     "metadata": {},
     "output_type": "execute_result"
    }
   ],
   "source": [
    "knn2 = KNeighborsRegressor(n_neighbors=20)\n",
    "knn2.fit(x_train,y_train)\n",
    "knn2.score(x_test,y_test)*100,knn2.score(x_train,y_train)*100"
   ]
  },
  {
   "cell_type": "code",
   "execution_count": 56,
   "id": "ecf4da8c-45c0-4f9b-98d9-08ea26a77fbd",
   "metadata": {},
   "outputs": [
    {
     "name": "stdout",
     "output_type": "stream",
     "text": [
      "1 -50.47021943573667 100.0\n",
      "2 -25.39184952978055 54.16666666666667\n",
      "3 5.2594914663880115 44.44444444444443\n",
      "4 16.144200626959247 36.25000000000001\n",
      "5 20.25078369905955 31.066666666666652\n",
      "6 10.135841170323934 28.981481481481474\n",
      "7 9.410786258076897 24.693877551020403\n",
      "8 9.482758620689658 22.135416666666664\n",
      "9 5.87871047641163 20.16460905349794\n",
      "10 5.705329153605021 16.89999999999999\n",
      "11 7.873260965310013 18.154269972451807\n",
      "12 10.571229536746795 18.287037037037045\n",
      "13 8.66428001706515 17.45562130177514\n",
      "14 9.794638858678296 14.574829931972788\n",
      "15 6.597004528038997 13.111111111111097\n",
      "16 7.3275862068965525 12.5\n",
      "17 5.847642394593855 12.987312572087673\n",
      "18 6.304423545802862 13.220164609053498\n",
      "19 7.0849868442761865 12.797783933518003\n",
      "20 6.927899686520389 13.108333333333345\n",
      "21 6.823335394763963 12.335600907029477\n",
      "22 4.557112878572001 11.928374655647389\n",
      "23 3.6450154369455645 11.783238815374919\n",
      "24 2.0811563915012266 11.880787037037043\n",
      "25 1.6526645768025205 10.64533333333333\n",
      "26 3.025356606258478 9.748520710059172\n",
      "27 4.571470344139572 8.673982624599908\n",
      "28 1.4618386539568817 8.945578231292517\n",
      "29 0.7898493732271361 9.080459770114945\n"
     ]
    }
   ],
   "source": [
    "for i in range(1,30):\n",
    "    knn3 = KNeighborsRegressor(n_neighbors=i)\n",
    "    knn3.fit(x_train,y_train)\n",
    "    print(i,knn3.score(x_test,y_test)*100,knn3.score(x_train,y_train)*100)"
   ]
  },
  {
   "cell_type": "code",
   "execution_count": null,
   "id": "a22fe674-7e7f-4cbb-a110-6a1fee87d774",
   "metadata": {},
   "outputs": [],
   "source": []
  }
 ],
 "metadata": {
  "kernelspec": {
   "display_name": "Python 3 (ipykernel)",
   "language": "python",
   "name": "python3"
  },
  "language_info": {
   "codemirror_mode": {
    "name": "ipython",
    "version": 3
   },
   "file_extension": ".py",
   "mimetype": "text/x-python",
   "name": "python",
   "nbconvert_exporter": "python",
   "pygments_lexer": "ipython3",
   "version": "3.13.2"
  }
 },
 "nbformat": 4,
 "nbformat_minor": 5
}
