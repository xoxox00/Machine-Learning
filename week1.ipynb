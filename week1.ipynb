{
 "cells": [
  {
   "cell_type": "markdown",
   "id": "8fc30bdc-5c71-4b78-bea2-724665f4f435",
   "metadata": {},
   "source": []
  },
  {
   "cell_type": "code",
   "execution_count": 1,
   "id": "46734783-6495-4a57-a30e-8c253f03b5fb",
   "metadata": {},
   "outputs": [
    {
     "name": "stdout",
     "output_type": "stream",
     "text": [
      "<bound method DataFrame.info of    TransactionID TransactionDate  UserID  ProductID  Quantity\n",
      "0              1      2010-08-21     7.0          2         1\n",
      "1              2      2011-05-26     3.0          4         1\n",
      "2              3      2011-06-16     3.0          3         1\n",
      "3              4      2012-08-26     1.0          2         3\n",
      "4              5      2013-06-06     2.0          4         1\n",
      "5              6      2013-12-23     2.0          5         6\n",
      "6              7      2013-12-30     3.0          4         1\n",
      "7              8      2014-04-24     NaN          2         3\n",
      "8              9      2015-04-24     7.0          4         3\n",
      "9             10      2016-05-08     3.0          4         4>\n"
     ]
    }
   ],
   "source": [
    "#1.summary transaction data set\n",
    "import pandas as pd \n",
    "df=pd.read_csv('transactions.csv')\n",
    "print(df.info)"
   ]
  },
  {
   "cell_type": "code",
   "execution_count": 2,
   "id": "587bea9c-01f7-46f1-8763-c647c096cbe7",
   "metadata": {},
   "outputs": [
    {
     "name": "stdout",
     "output_type": "stream",
     "text": [
      "5\n"
     ]
    }
   ],
   "source": [
    "#2.print number of attributes\n",
    "num_attributes = len(df.columns)\n",
    "print(num_attributes)"
   ]
  },
  {
   "cell_type": "code",
   "execution_count": 3,
   "id": "9a449587-b460-4c5c-a0a7-6c78039c79d0",
   "metadata": {},
   "outputs": [
    {
     "name": "stdout",
     "output_type": "stream",
     "text": [
      "10\n"
     ]
    }
   ],
   "source": [
    "#3.print number of records\n",
    "num_records = len(df)\n",
    "print(num_records)"
   ]
  },
  {
   "cell_type": "code",
   "execution_count": 4,
   "id": "c0aace56-6d57-46f9-923c-f7dd2964b305",
   "metadata": {},
   "outputs": [
    {
     "name": "stdout",
     "output_type": "stream",
     "text": [
      "   TransactionID TransactionDate  UserID  ProductID  Quantity\n",
      "0              1      2010-08-21     7.0          2         1\n",
      "1              2      2011-05-26     3.0          4         1\n",
      "2              3      2011-06-16     3.0          3         1\n",
      "3              4      2012-08-26     1.0          2         3\n",
      "4              5      2013-06-06     2.0          4         1\n",
      "5              6      2013-12-23     2.0          5         6\n",
      "6              7      2013-12-30     3.0          4         1\n",
      "7              8      2014-04-24     NaN          2         3\n",
      "8              9      2015-04-24     7.0          4         3\n",
      "9             10      2016-05-08     3.0          4         4\n"
     ]
    }
   ],
   "source": [
    "#4.get the row names\n",
    "names_records = df\n",
    "print(names_records)"
   ]
  },
  {
   "cell_type": "code",
   "execution_count": 6,
   "id": "955e1a18-3479-4dfe-ad7c-611bcdedfc22",
   "metadata": {},
   "outputs": [
    {
     "name": "stdout",
     "output_type": "stream",
     "text": [
      "Index(['TransactionID', 'TransactionDate', 'UserID', 'ProductID', 'Quantity'], dtype='object')\n"
     ]
    }
   ],
   "source": [
    "#5.get the column names\n",
    "names_columns=df.columns;\n",
    "print(names_columns)"
   ]
  },
  {
   "cell_type": "code",
   "execution_count": 7,
   "id": "33f70f17-b67d-4b1f-88d5-38e5aa487e1a",
   "metadata": {},
   "outputs": [
    {
     "name": "stdout",
     "output_type": "stream",
     "text": [
      "   TransactionID TransactionDate  UserID  ProductID  Quantity\n",
      "0              1      2010-08-21     7.0          2         1\n",
      "1              2      2011-05-26     3.0          4         1\n",
      "2              3      2011-06-16     3.0          3         1\n",
      "3              4      2012-08-26     1.0          2         3\n",
      "4              5      2013-06-06     2.0          4         1\n",
      "5              6      2013-12-23     2.0          5         6\n",
      "6              7      2013-12-30     3.0          4         1\n",
      "7              8      2014-04-24     NaN          2         3\n",
      "8              9      2015-04-24     7.0          4         3\n",
      "9             10      2016-05-08     3.0          4         4\n"
     ]
    }
   ],
   "source": [
    "#6.view top 10 records\n",
    "top_10=df.head(10)\n",
    "print(top_10)"
   ]
  },
  {
   "cell_type": "code",
   "execution_count": 8,
   "id": "c1e77cb4-189f-44ab-928a-3574be735e57",
   "metadata": {},
   "outputs": [
    {
     "name": "stdout",
     "output_type": "stream",
     "text": [
      "   TransactionID TransactionDate  UserID  ProductID  Quant\n",
      "0              1      2010-08-21     7.0          2      1\n",
      "1              2      2011-05-26     3.0          4      1\n",
      "2              3      2011-06-16     3.0          3      1\n",
      "3              4      2012-08-26     1.0          2      3\n",
      "4              5      2013-06-06     2.0          4      1\n",
      "5              6      2013-12-23     2.0          5      6\n",
      "6              7      2013-12-30     3.0          4      1\n",
      "7              8      2014-04-24     NaN          2      3\n",
      "8              9      2015-04-24     7.0          4      3\n",
      "9             10      2016-05-08     3.0          4      4\n"
     ]
    }
   ],
   "source": [
    "#7.change Quantity to Quant\n",
    "df.rename(columns={\"Quantity\":\"Quant\"},inplace=True)\n",
    "print(df)"
   ]
  },
  {
   "cell_type": "code",
   "execution_count": 9,
   "id": "52bbf086-00cf-45ae-9f2e-8b3319b03e37",
   "metadata": {},
   "outputs": [
    {
     "name": "stdout",
     "output_type": "stream",
     "text": [
      "   TransactionID TransactionDate  UID  PID  Quant\n",
      "0              1      2010-08-21  7.0    2      1\n",
      "1              2      2011-05-26  3.0    4      1\n",
      "2              3      2011-06-16  3.0    3      1\n",
      "3              4      2012-08-26  1.0    2      3\n",
      "4              5      2013-06-06  2.0    4      1\n",
      "5              6      2013-12-23  2.0    5      6\n",
      "6              7      2013-12-30  3.0    4      1\n",
      "7              8      2014-04-24  NaN    2      3\n",
      "8              9      2015-04-24  7.0    4      3\n",
      "9             10      2016-05-08  3.0    4      4\n"
     ]
    }
   ],
   "source": [
    "#8.rename columns\n",
    "df.rename(columns={\"ProductID\":\"PID\",\"UserID\":\"UID\"},inplace=True)\n",
    "print(df)"
   ]
  },
  {
   "cell_type": "code",
   "execution_count": 10,
   "id": "be37c218-24f5-4404-8060-3e0a51f10f04",
   "metadata": {},
   "outputs": [
    {
     "name": "stdout",
     "output_type": "stream",
     "text": [
      "   TransactionID TransactionDate  UID  PID  Quant\n",
      "0              1      2010-08-21  7.0    2      1\n",
      "1              2      2011-05-26  3.0    4      1\n",
      "2              3      2011-06-16  3.0    3      1\n",
      "3              4      2012-08-26  1.0    2      3\n",
      "4              5      2013-06-06  2.0    4      1\n",
      "5              6      2013-12-23  2.0    5      6\n",
      "6              7      2013-12-30  3.0    4      1\n",
      "7              8      2014-04-24  NaN    2      3\n",
      "8              9      2015-04-24  7.0    4      3\n",
      "9             10      2016-05-08  3.0    4      4\n"
     ]
    }
   ],
   "source": [
    "#9.sort by order\n",
    "df_sorted=df.sort_values(by=[\"TransactionID\"],ascending=[True])\n",
    "print(df_sorted)"
   ]
  },
  {
   "cell_type": "code",
   "execution_count": 12,
   "id": "1b6c2d15-1048-431f-8b99-580cca975feb",
   "metadata": {},
   "outputs": [
    {
     "name": "stdout",
     "output_type": "stream",
     "text": [
      "   TransactionID TransactionDate  UID  PID  Quant\n",
      "0              1      2010-08-21  7.0    2      1\n",
      "1              2      2011-05-26  3.0    4      1\n",
      "2              3      2011-06-16  3.0    3      1\n",
      "3              4      2012-08-26  1.0    2      3\n",
      "4              5      2013-06-06  2.0    4      1\n",
      "5              6      2013-12-23  2.0    5      6\n",
      "6              7      2013-12-30  3.0    4      1\n",
      "7              8      2014-04-24  NaN    2      3\n",
      "8              9      2015-04-24  7.0    4      3\n",
      "9             10      2016-05-08  3.0    4      4\n"
     ]
    }
   ],
   "source": [
    "#10.sort by order\n",
    "df_sorted=df.sort_values(by=[\"TransactionID\",\"Quant\"],ascending=[True,False])\n",
    "print(df_sorted)"
   ]
  },
  {
   "cell_type": "code",
   "execution_count": 15,
   "id": "41f1618d-e278-4383-990f-0122c18c70de",
   "metadata": {},
   "outputs": [
    {
     "name": "stdout",
     "output_type": "stream",
     "text": [
      "   ProductID  Quantity TransactionDate  TransactionID  UserID\n",
      "0          2         1      2010-08-21              1     7.0\n",
      "1          4         1      2011-05-26              2     3.0\n",
      "2          3         1      2011-06-16              3     3.0\n",
      "3          2         3      2012-08-26              4     1.0\n",
      "4          4         1      2013-06-06              5     2.0\n",
      "5          5         6      2013-12-23              6     2.0\n",
      "6          4         1      2013-12-30              7     3.0\n",
      "7          2         3      2014-04-24              8     NaN\n",
      "8          4         3      2015-04-24              9     7.0\n",
      "9          4         4      2016-05-08             10     3.0\n"
     ]
    }
   ],
   "source": [
    "#11. Set the column order of Transactions as ProductID,Quantity, TransactionDate, TransactionID, UserID\n",
    "# Reordering the columns\n",
    "df = df[['PID', 'Quant', 'TransactionDate', 'TransactionID', 'UID']]\n",
    "\n",
    "# Renaming the columns to match the desired output\n",
    "df.columns = ['ProductID', 'Quantity', 'TransactionDate', 'TransactionID', 'UserID']\n",
    "\n",
    "print(df)\n"
   ]
  },
  {
   "cell_type": "code",
   "execution_count": 18,
   "id": "43e5ab19-c75a-4447-8cc3-e92ff0dff748",
   "metadata": {},
   "outputs": [
    {
     "name": "stdout",
     "output_type": "stream",
     "text": [
      "   UserID  ProductID  Quantity TransactionDate  TransactionID\n",
      "0     7.0          2         1      2010-08-21              1\n",
      "1     3.0          4         1      2011-05-26              2\n",
      "2     3.0          3         1      2011-06-16              3\n",
      "3     1.0          2         3      2012-08-26              4\n",
      "4     2.0          4         1      2013-06-06              5\n",
      "5     2.0          5         6      2013-12-23              6\n",
      "6     3.0          4         1      2013-12-30              7\n",
      "7     NaN          2         3      2014-04-24              8\n",
      "8     7.0          4         3      2015-04-24              9\n",
      "9     3.0          4         4      2016-05-08             10\n"
     ]
    }
   ],
   "source": [
    "#12. Make UserID the first column of transactions\n",
    "df = df[['UserID', 'ProductID', 'Quantity', 'TransactionDate', 'TransactionID']]\n",
    "\n",
    "print(df)"
   ]
  },
  {
   "cell_type": "code",
   "execution_count": 19,
   "id": "44a5e8e9-a37a-4397-a9f1-b09754955546",
   "metadata": {},
   "outputs": [
    {
     "name": "stdout",
     "output_type": "stream",
     "text": [
      "0    2\n",
      "1    4\n",
      "2    3\n",
      "3    2\n",
      "4    4\n",
      "5    5\n",
      "6    4\n",
      "7    2\n",
      "8    4\n",
      "9    4\n",
      "Name: ProductID, dtype: int64\n"
     ]
    }
   ],
   "source": [
    "#13.. Extracting arrays from a Data Frame. Get the 2nd column\n",
    "second_column = df.iloc[:, 1]\n",
    "\n",
    "print(second_column)\n"
   ]
  },
  {
   "cell_type": "code",
   "execution_count": 20,
   "id": "95acaa45-798e-4f84-8f58-c9bcde9338fb",
   "metadata": {},
   "outputs": [
    {
     "name": "stdout",
     "output_type": "stream",
     "text": [
      "[2 4 3 2 4 5 4 2 4 4]\n",
      "[2 4 3 2 4 5 4 2 4 4]\n"
     ]
    }
   ],
   "source": [
    "#14. Get the ProductID Array\n",
    "product_id_array = df['ProductID'].values\n",
    "print(product_id_array)\n",
    "\n",
    "# Using .to_numpy() (Recommended)\n",
    "product_id_array = df['ProductID'].to_numpy()\n",
    "print(product_id_array)"
   ]
  },
  {
   "cell_type": "code",
   "execution_count": null,
   "id": "758d7096-4b81-4f76-916f-0899fd6151db",
   "metadata": {},
   "outputs": [],
   "source": [
    "#15. Get the ProductId array using the following variable\n"
   ]
  },
  {
   "cell_type": "code",
   "execution_count": 21,
   "id": "eb34ee79-5a79-46ac-bff9-c191ef1e54a5",
   "metadata": {},
   "outputs": [
    {
     "name": "stdout",
     "output_type": "stream",
     "text": [
      "   UserID  ProductID  Quantity TransactionDate  TransactionID\n",
      "1     3.0          4         1      2011-05-26              2\n",
      "3     1.0          2         3      2012-08-26              4\n",
      "6     3.0          4         1      2013-12-30              7\n"
     ]
    }
   ],
   "source": [
    "#16.Row subsetting, subset rows 1,3 and 6\n",
    "subset_df = df.iloc[[1, 3, 6]]\n",
    "\n",
    "print(subset_df)"
   ]
  },
  {
   "cell_type": "code",
   "execution_count": 8,
   "id": "cce62957-2403-4cad-86e6-d64aab88e88b",
   "metadata": {},
   "outputs": [
    {
     "name": "stdout",
     "output_type": "stream",
     "text": [
      "   TransactionID TransactionDate  UserID  ProductID  Quantity\n",
      "0              1      2010-08-21     7.0          2         1\n",
      "2              3      2011-06-16     3.0          3         1\n",
      "5              6      2013-12-23     2.0          5         6\n"
     ]
    }
   ],
   "source": [
    "#17. subset rows excluding 1,3 and 6\n",
    "subset_df = df.iloc[[0, 2, 5]] \n",
    "print(subset_df)\n"
   ]
  },
  {
   "cell_type": "code",
   "execution_count": 9,
   "id": "c353af19-66c8-4e4a-8d1d-a870cfa90aef",
   "metadata": {},
   "outputs": [
    {
     "name": "stdout",
     "output_type": "stream",
     "text": [
      "   TransactionID TransactionDate  UserID  ProductID  Quantity\n",
      "0              1      2010-08-21     7.0          2         1\n",
      "1              2      2011-05-26     3.0          4         1\n",
      "2              3      2011-06-16     3.0          3         1\n"
     ]
    }
   ],
   "source": [
    "#18. Subset the first three rows\n",
    "subset_df = df.iloc[:3] \n",
    "print(subset_df)"
   ]
  },
  {
   "cell_type": "code",
   "execution_count": 10,
   "id": "cb58692b-9df8-4a3d-a808-c10d843808e1",
   "metadata": {},
   "outputs": [
    {
     "name": "stdout",
     "output_type": "stream",
     "text": [
      "   TransactionID TransactionDate  UserID  ProductID  Quantity\n",
      "8              9      2015-04-24     7.0          4         3\n",
      "9             10      2016-05-08     3.0          4         4\n"
     ]
    }
   ],
   "source": [
    "#19. Subset the last 2 rows\n",
    "subset_df = df.iloc[-2:] \n",
    "print(subset_df)\n"
   ]
  },
  {
   "cell_type": "code",
   "execution_count": 11,
   "id": "7f6cc9bb-fe93-4c89-8859-eff19b5a49af",
   "metadata": {},
   "outputs": [
    {
     "name": "stdout",
     "output_type": "stream",
     "text": [
      "   TransactionID TransactionDate  UserID  ProductID  Quantity\n",
      "0              1      2010-08-21     7.0          2         1\n",
      "1              2      2011-05-26     3.0          4         1\n",
      "2              3      2011-06-16     3.0          3         1\n",
      "3              4      2012-08-26     1.0          2         3\n",
      "4              5      2013-06-06     2.0          4         1\n",
      "5              6      2013-12-23     2.0          5         6\n",
      "6              7      2013-12-30     3.0          4         1\n",
      "7              8      2014-04-24     NaN          2         3\n"
     ]
    }
   ],
   "source": [
    "#20.Subset rows excluding the last 2 rows\n",
    "subset_df = df.iloc[:-2] \n",
    "print(subset_df)"
   ]
  },
  {
   "cell_type": "code",
   "execution_count": 12,
   "id": "8e48d264-7efb-473c-b6dc-b264b5e68521",
   "metadata": {},
   "outputs": [
    {
     "name": "stdout",
     "output_type": "stream",
     "text": [
      "   TransactionID TransactionDate  UserID  ProductID  Quantity\n",
      "3              4      2012-08-26     1.0          2         3\n",
      "4              5      2013-06-06     2.0          4         1\n",
      "5              6      2013-12-23     2.0          5         6\n",
      "6              7      2013-12-30     3.0          4         1\n",
      "7              8      2014-04-24     NaN          2         3\n",
      "8              9      2015-04-24     7.0          4         3\n",
      "9             10      2016-05-08     3.0          4         4\n"
     ]
    }
   ],
   "source": [
    "#21. Subset rows excluding the first 3 rows\n",
    "subset_df = df.iloc[3:] \n",
    "print(subset_df)"
   ]
  },
  {
   "cell_type": "code",
   "execution_count": 13,
   "id": "85252c2c-3719-4c62-bfc8-bb07185f9692",
   "metadata": {},
   "outputs": [
    {
     "name": "stdout",
     "output_type": "stream",
     "text": [
      "   TransactionID TransactionDate  UserID  ProductID  Quantity\n",
      "3              4      2012-08-26     1.0          2         3\n",
      "5              6      2013-12-23     2.0          5         6\n",
      "7              8      2014-04-24     NaN          2         3\n",
      "8              9      2015-04-24     7.0          4         3\n",
      "9             10      2016-05-08     3.0          4         4\n"
     ]
    }
   ],
   "source": [
    "#22. Subset rows where Quantity>1\n",
    "subset_df = df[df['Quantity'] > 1]\n",
    "print(subset_df)"
   ]
  },
  {
   "cell_type": "code",
   "execution_count": 15,
   "id": "412ce609-7684-4646-ba0a-120a2a974a43",
   "metadata": {},
   "outputs": [
    {
     "name": "stdout",
     "output_type": "stream",
     "text": [
      "   TransactionID TransactionDate  UserID  ProductID  Quantity\n",
      "3              4      2012-08-26     1.0          2         3\n"
     ]
    }
   ],
   "source": [
    "#23. Subset rows where UserID=2\n",
    "subset_df = df[df['UserID'] == 1]\n",
    "print(subset_df)"
   ]
  },
  {
   "cell_type": "code",
   "execution_count": 16,
   "id": "f42ae097-ee50-455f-a400-f46ce941c8ce",
   "metadata": {},
   "outputs": [
    {
     "name": "stdout",
     "output_type": "stream",
     "text": [
      "   TransactionID TransactionDate  UserID  ProductID  Quantity\n",
      "5              6      2013-12-23     2.0          5         6\n"
     ]
    }
   ],
   "source": [
    "#24. Subset rows where Quantity>1 and UserID=2\n",
    "subset_df = df[(df['Quantity'] > 1) & (df['UserID'] == 2)]\n",
    "print(subset_df)"
   ]
  },
  {
   "cell_type": "code",
   "execution_count": 19,
   "id": "941010bd-21a1-457c-8351-e2f18d741cf7",
   "metadata": {},
   "outputs": [
    {
     "name": "stdout",
     "output_type": "stream",
     "text": [
      "   TransactionID TransactionDate  UserID  ProductID  Quantity\n",
      "0              1      2010-08-21     7.0          2         1\n",
      "1              2      2011-05-26     3.0          4         1\n",
      "2              3      2011-06-16     3.0          3         1\n",
      "3              4      2012-08-26     1.0          2         3\n",
      "5              6      2013-12-23     2.0          5         6\n",
      "6              7      2013-12-30     3.0          4         1\n",
      "8              9      2015-04-24     7.0          4         3\n",
      "9             10      2016-05-08     3.0          4         4\n"
     ]
    }
   ],
   "source": [
    "#25. Subset rows where Quantity + UserID is >3\n",
    "subset_df = df[(df['Quantity']+ df['UserID'] > 3)]\n",
    "print(subset_df)"
   ]
  },
  {
   "cell_type": "code",
   "execution_count": 21,
   "id": "8a78735a-7d63-47c2-8b93-eb513c911022",
   "metadata": {},
   "outputs": [
    {
     "name": "stdout",
     "output_type": "stream",
     "text": [
      "   TransactionID TransactionDate  UserID  ProductID  Quantity\n",
      "0              1      2010-08-21     7.0          2         1\n",
      "2              3      2011-06-16     3.0          3         1\n",
      "4              5      2013-06-06     2.0          4         1\n",
      "5              6      2013-12-23     2.0          5         6\n",
      "7              8      2014-04-24     NaN          2         3\n",
      "9             10      2016-05-08     3.0          4         4\n"
     ]
    }
   ],
   "source": [
    "#26. Subset rows where an external array, foo, is True\n",
    "foo = [True, False, True, False, True,True, False, True, False, True] \n",
    "subset_df = df[foo]\n",
    "print(subset_df)"
   ]
  },
  {
   "cell_type": "code",
   "execution_count": 23,
   "id": "a1cd5012-2eae-4959-a19d-a53aad4f674e",
   "metadata": {},
   "outputs": [
    {
     "name": "stdout",
     "output_type": "stream",
     "text": [
      "   TransactionID TransactionDate  UserID  ProductID  Quantity\n",
      "0              1      2010-08-21     7.0          2         1\n",
      "2              3      2011-06-16     3.0          3         1\n",
      "4              5      2013-06-06     2.0          4         1\n",
      "5              6      2013-12-23     2.0          5         6\n",
      "7              8      2014-04-24     NaN          2         3\n",
      "9             10      2016-05-08     3.0          4         4\n"
     ]
    }
   ],
   "source": [
    "#27. Subset rows where an external array, bar, is positive\n",
    "bar = [1, -2, 3, 0, 5,1, -2, 3, 0, 5]  \n",
    "subset_df = df[pd.Series(bar) > 0]\n",
    "print(subset_df)"
   ]
  },
  {
   "cell_type": "code",
   "execution_count": 25,
   "id": "04e73cb6-d7dd-45ca-8369-1bc2830149d9",
   "metadata": {},
   "outputs": [
    {
     "name": "stdout",
     "output_type": "stream",
     "text": [
      "   TransactionID TransactionDate  UserID  ProductID  Quantity\n",
      "0              1      2010-08-21     7.0          2         1\n",
      "1              2      2011-05-26     3.0          4         1\n",
      "2              3      2011-06-16     3.0          3         1\n",
      "4              5      2013-06-06     2.0          4         1\n",
      "5              6      2013-12-23     2.0          5         6\n",
      "6              7      2013-12-30     3.0          4         1\n",
      "7              8      2014-04-24     NaN          2         3\n",
      "9             10      2016-05-08     3.0          4         4\n"
     ]
    }
   ],
   "source": [
    "#28. Subset rows where foo is TRUE or bar is negative\n",
    "subset_df = df[(pd.Series(foo)) | (pd.Series(bar) < 0)]\n",
    "print(subset_df)"
   ]
  },
  {
   "cell_type": "code",
   "execution_count": 26,
   "id": "c78e633e-7fc6-422e-8c55-cfc791792de1",
   "metadata": {},
   "outputs": [
    {
     "name": "stdout",
     "output_type": "stream",
     "text": [
      "   TransactionID TransactionDate  UserID  ProductID  Quantity\n",
      "3              4      2012-08-26     1.0          2         3\n",
      "8              9      2015-04-24     7.0          4         3\n"
     ]
    }
   ],
   "source": [
    "#29. Subset the rows where foo is not TRUE and bar is not negative\n",
    "subset_df = df[~pd.Series(foo) & (pd.Series(bar) >= 0)]\n",
    "print(subset_df)"
   ]
  },
  {
   "cell_type": "code",
   "execution_count": 24,
   "id": "7bafb189-3d14-4689-a9d5-b6aaaff41fc1",
   "metadata": {},
   "outputs": [
    {
     "name": "stdout",
     "output_type": "stream",
     "text": [
      "   TransactionID TransactionDate  UserID  ProductID  Quantity\n",
      "0              1      2010-08-21     7.0          2         1\n",
      "2              3      2011-06-16     3.0          3         1\n",
      "4              5      2013-06-06     2.0          4         1\n",
      "5              6      2013-12-23     2.0          5         6\n",
      "7              8      2014-04-24     NaN          2         3\n",
      "9             10      2016-05-08     3.0          4         4\n"
     ]
    }
   ],
   "source": [
    "#30.Subset by columns 1 and 3\n",
    "subset_df = df.iloc[:, [0, 2]]\n",
    "print(subset_df)"
   ]
  },
  {
   "cell_type": "code",
   "execution_count": 22,
   "id": "223019ac-18e9-4c8d-a1dc-c2be3cd2a05c",
   "metadata": {},
   "outputs": [
    {
     "name": "stdout",
     "output_type": "stream",
     "text": [
      "   TransactionID TransactionDate\n",
      "0              1      2010-08-21\n",
      "1              2      2011-05-26\n",
      "2              3      2011-06-16\n",
      "3              4      2012-08-26\n",
      "4              5      2013-06-06\n",
      "5              6      2013-12-23\n",
      "6              7      2013-12-30\n",
      "7              8      2014-04-24\n",
      "8              9      2015-04-24\n",
      "9             10      2016-05-08\n"
     ]
    }
   ],
   "source": [
    "#31. Subset by columns TransactionID and TransactionDate\n",
    "subset_df = df[['TransactionID', 'TransactionDate']]\n",
    "\n",
    "print(subset_df)\n"
   ]
  },
  {
   "cell_type": "code",
   "execution_count": 23,
   "id": "b81a642b-1b5f-44c9-bfc3-53ac6fce3674",
   "metadata": {},
   "outputs": [
    {
     "name": "stdout",
     "output_type": "stream",
     "text": [
      "Empty DataFrame\n",
      "Columns: [TransactionID, TransactionDate]\n",
      "Index: []\n"
     ]
    }
   ],
   "source": [
    "#32. Subset by columns TransactionID andTransactionDate with logical operator\n",
    "subset_df = df.loc[(df['TransactionID'] > 101) & (df['TransactionDate'] > '2025-03-11'),\n",
    "                   ['TransactionID', 'TransactionDate']]\n",
    "\n",
    "print(subset_df)"
   ]
  },
  {
   "cell_type": "code",
   "execution_count": 24,
   "id": "815f37f3-3827-4dd9-935a-677cb2cf773e",
   "metadata": {},
   "outputs": [
    {
     "name": "stdout",
     "output_type": "stream",
     "text": [
      "   TransactionID TransactionDate\n",
      "0              1      2010-08-21\n",
      "1              2      2011-05-26\n",
      "2              3      2011-06-16\n",
      "3              4      2012-08-26\n",
      "4              5      2013-06-06\n",
      "5              6      2013-12-23\n",
      "6              7      2013-12-30\n",
      "7              8      2014-04-24\n",
      "8              9      2015-04-24\n",
      "9             10      2016-05-08\n"
     ]
    }
   ],
   "source": [
    "#33. Subset columns by a variable list of column names\n",
    "# Define the variable list of column names\n",
    "column_list = ['TransactionID', 'TransactionDate']\n",
    "\n",
    "# Subset the DataFrame using the variable list\n",
    "subset_df = df[column_list]\n",
    "\n",
    "print(subset_df)\n"
   ]
  },
  {
   "cell_type": "code",
   "execution_count": 25,
   "id": "3ed182a4-c1d8-4095-aca4-147fc0a1adda",
   "metadata": {},
   "outputs": [
    {
     "name": "stdout",
     "output_type": "stream",
     "text": [
      "   UserID  ProductID  Quantity\n",
      "0     7.0          2         1\n",
      "1     3.0          4         1\n",
      "2     3.0          3         1\n",
      "3     1.0          2         3\n",
      "4     2.0          4         1\n",
      "5     2.0          5         6\n",
      "6     3.0          4         1\n",
      "7     NaN          2         3\n",
      "8     7.0          4         3\n",
      "9     3.0          4         4\n"
     ]
    }
   ],
   "source": [
    "#34.Subset columns excluding a variable list of columnnames\n",
    "exclude_columns = ['TransactionID', 'TransactionDate']\n",
    "\n",
    "# Subset the DataFrame by excluding specified columns\n",
    "subset_df = df.drop(columns=exclude_columns)\n",
    "\n",
    "print(subset_df)\n"
   ]
  },
  {
   "cell_type": "code",
   "execution_count": 28,
   "id": "ff2233b1-2d6b-4245-a4fa-e8fead61ac05",
   "metadata": {},
   "outputs": [
    {
     "name": "stdout",
     "output_type": "stream",
     "text": [
      "0    100\n",
      "1    100\n",
      "2    100\n",
      "3    300\n",
      "4    100\n",
      "5    600\n",
      "6    100\n",
      "7    300\n",
      "8    300\n",
      "9    400\n",
      "Name: TotalAmount, dtype: int64\n"
     ]
    }
   ],
   "source": [
    "#35. Inserting and updating values\n",
    "# Correct method using .loc[]\n",
    "df.loc[:, 'Discount'] = 0\n",
    "df.loc[:, 'TotalAmount'] = df['Quantity'] * 100\n",
    "\n",
    "print(df.TotalAmount)"
   ]
  },
  {
   "cell_type": "code",
   "execution_count": 31,
   "id": "2811068f-073b-4fea-bbfc-9a8fc4dfe486",
   "metadata": {},
   "outputs": [
    {
     "name": "stdout",
     "output_type": "stream",
     "text": [
      "0   2010-08-21\n",
      "1   2011-05-26\n",
      "2   2011-06-16\n",
      "3   2012-08-26\n",
      "4   2013-06-06\n",
      "5   2013-12-23\n",
      "6   2013-12-30\n",
      "7   2014-04-24\n",
      "8   2015-04-24\n",
      "9   2016-05-08\n",
      "Name: TransactionDate, dtype: datetime64[ns]\n"
     ]
    }
   ],
   "source": [
    "#36.Convert the TransactionDate column to type Date\n",
    "# Correct way using .loc[]\n",
    "df.loc[:, 'TransactionDate'] = pd.to_datetime(df['TransactionDate'])\n",
    "print(df.TransactionDate)"
   ]
  },
  {
   "cell_type": "code",
   "execution_count": 33,
   "id": "bc972086-7945-4c7e-af53-6f8753fc1644",
   "metadata": {},
   "outputs": [
    {
     "name": "stdout",
     "output_type": "stream",
     "text": [
      "0     9.0\n",
      "1     7.0\n",
      "2     6.0\n",
      "3     3.0\n",
      "4     6.0\n",
      "5     7.0\n",
      "6     7.0\n",
      "7     NaN\n",
      "8    11.0\n",
      "9     7.0\n",
      "Name: Foo, dtype: float64\n"
     ]
    }
   ],
   "source": [
    "#37.Insert a new column, Foo=UserID+ProductID\n",
    "df.loc[:, 'Foo'] = df['UserID'] + df['ProductID']\n",
    "print(df.Foo)\n"
   ]
  },
  {
   "cell_type": "code",
   "execution_count": null,
   "id": "2a594083-39cd-48b4-8293-33b0ffb983ea",
   "metadata": {},
   "outputs": [],
   "source": []
  }
 ],
 "metadata": {
  "kernelspec": {
   "display_name": "Python 3 (ipykernel)",
   "language": "python",
   "name": "python3"
  },
  "language_info": {
   "codemirror_mode": {
    "name": "ipython",
    "version": 3
   },
   "file_extension": ".py",
   "mimetype": "text/x-python",
   "name": "python",
   "nbconvert_exporter": "python",
   "pygments_lexer": "ipython3",
   "version": "3.10.12"
  }
 },
 "nbformat": 4,
 "nbformat_minor": 5
}
