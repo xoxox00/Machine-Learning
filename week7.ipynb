{
 "cells": [
  {
   "cell_type": "code",
   "execution_count": 1,
   "id": "eece6fa6-cdaf-41a0-b203-0b0168a44ece",
   "metadata": {},
   "outputs": [
    {
     "name": "stdout",
     "output_type": "stream",
     "text": [
      "<bound method DataFrame.info of        label  pixel0  pixel1  pixel2  pixel3  pixel4  pixel5  pixel6  pixel7  \\\n",
      "0          1       0       0       0       0       0       0       0       0   \n",
      "1          0       0       0       0       0       0       0       0       0   \n",
      "2          1       0       0       0       0       0       0       0       0   \n",
      "3          4       0       0       0       0       0       0       0       0   \n",
      "4          0       0       0       0       0       0       0       0       0   \n",
      "...      ...     ...     ...     ...     ...     ...     ...     ...     ...   \n",
      "41995      0       0       0       0       0       0       0       0       0   \n",
      "41996      1       0       0       0       0       0       0       0       0   \n",
      "41997      7       0       0       0       0       0       0       0       0   \n",
      "41998      6       0       0       0       0       0       0       0       0   \n",
      "41999      9       0       0       0       0       0       0       0       0   \n",
      "\n",
      "       pixel8  ...  pixel774  pixel775  pixel776  pixel777  pixel778  \\\n",
      "0           0  ...         0         0         0         0         0   \n",
      "1           0  ...         0         0         0         0         0   \n",
      "2           0  ...         0         0         0         0         0   \n",
      "3           0  ...         0         0         0         0         0   \n",
      "4           0  ...         0         0         0         0         0   \n",
      "...       ...  ...       ...       ...       ...       ...       ...   \n",
      "41995       0  ...         0         0         0         0         0   \n",
      "41996       0  ...         0         0         0         0         0   \n",
      "41997       0  ...         0         0         0         0         0   \n",
      "41998       0  ...         0         0         0         0         0   \n",
      "41999       0  ...         0         0         0         0         0   \n",
      "\n",
      "       pixel779  pixel780  pixel781  pixel782  pixel783  \n",
      "0             0         0         0         0         0  \n",
      "1             0         0         0         0         0  \n",
      "2             0         0         0         0         0  \n",
      "3             0         0         0         0         0  \n",
      "4             0         0         0         0         0  \n",
      "...         ...       ...       ...       ...       ...  \n",
      "41995         0         0         0         0         0  \n",
      "41996         0         0         0         0         0  \n",
      "41997         0         0         0         0         0  \n",
      "41998         0         0         0         0         0  \n",
      "41999         0         0         0         0         0  \n",
      "\n",
      "[42000 rows x 785 columns]>\n"
     ]
    }
   ],
   "source": [
    "#Import the train data\n",
    "import pandas as pd\n",
    "df=pd.read_csv('Week7_train.csv');\n",
    "print(df.info)"
   ]
  },
  {
   "cell_type": "code",
   "execution_count": 3,
   "id": "45927468-fff9-4ac4-bff1-fee4bace4231",
   "metadata": {},
   "outputs": [
    {
     "data": {
      "text/plain": [
       "(42000, 785)"
      ]
     },
     "execution_count": 3,
     "metadata": {},
     "output_type": "execute_result"
    }
   ],
   "source": [
    "#check the shape of the data\n",
    "df.shape"
   ]
  },
  {
   "cell_type": "code",
   "execution_count": 6,
   "id": "940598ca-ce37-4a98-b478-2d721b092a15",
   "metadata": {},
   "outputs": [
    {
     "data": {
      "text/plain": [
       "<bound method DataFrame.info of        label  pixel0  pixel1  pixel2  pixel3  pixel4  pixel5  pixel6  pixel7  \\\n",
       "4754       8       0       0       0       0       0       0       0       0   \n",
       "21282      0       0       0       0       0       0       0       0       0   \n",
       "24090      3       0       0       0       0       0       0       0       0   \n",
       "743        5       0       0       0       0       0       0       0       0   \n",
       "23669      3       0       0       0       0       0       0       0       0   \n",
       "...      ...     ...     ...     ...     ...     ...     ...     ...     ...   \n",
       "31938      9       0       0       0       0       0       0       0       0   \n",
       "15559      9       0       0       0       0       0       0       0       0   \n",
       "40587      2       0       0       0       0       0       0       0       0   \n",
       "36115      9       0       0       0       0       0       0       0       0   \n",
       "17458      9       0       0       0       0       0       0       0       0   \n",
       "\n",
       "       pixel8  ...  pixel774  pixel775  pixel776  pixel777  pixel778  \\\n",
       "4754        0  ...         0         0         0         0         0   \n",
       "21282       0  ...         0         0         0         0         0   \n",
       "24090       0  ...         0         0         0         0         0   \n",
       "743         0  ...         0         0         0         0         0   \n",
       "23669       0  ...         0         0         0         0         0   \n",
       "...       ...  ...       ...       ...       ...       ...       ...   \n",
       "31938       0  ...         0         0         0         0         0   \n",
       "15559       0  ...         0         0         0         0         0   \n",
       "40587       0  ...         0         0         0         0         0   \n",
       "36115       0  ...         0         0         0         0         0   \n",
       "17458       0  ...         0         0         0         0         0   \n",
       "\n",
       "       pixel779  pixel780  pixel781  pixel782  pixel783  \n",
       "4754          0         0         0         0         0  \n",
       "21282         0         0         0         0         0  \n",
       "24090         0         0         0         0         0  \n",
       "743           0         0         0         0         0  \n",
       "23669         0         0         0         0         0  \n",
       "...         ...       ...       ...       ...       ...  \n",
       "31938         0         0         0         0         0  \n",
       "15559         0         0         0         0         0  \n",
       "40587         0         0         0         0         0  \n",
       "36115         0         0         0         0         0  \n",
       "17458         0         0         0         0         0  \n",
       "\n",
       "[4200 rows x 785 columns]>"
      ]
     },
     "execution_count": 6,
     "metadata": {},
     "output_type": "execute_result"
    }
   ],
   "source": [
    "# select only 10% of the data from the experiment .will not use  total data as  KNN isdf=df.sample\n",
    "mf=df.sample(frac=0.10)\n",
    "mf.info"
   ]
  },
  {
   "cell_type": "code",
   "execution_count": 7,
   "id": "e84a11d6-9b3f-45a7-8423-641a4de1f87d",
   "metadata": {},
   "outputs": [
    {
     "data": {
      "text/plain": [
       "(4200, 785)"
      ]
     },
     "execution_count": 7,
     "metadata": {},
     "output_type": "execute_result"
    }
   ],
   "source": [
    "#5.print shape of selected dataset\n",
    "mf.shape"
   ]
  },
  {
   "cell_type": "code",
   "execution_count": 21,
   "id": "4bb7b352-d9ab-4747-93d4-a6e68307cc72",
   "metadata": {},
   "outputs": [
    {
     "name": "stdout",
     "output_type": "stream",
     "text": [
      "       label  pixel0  pixel1  pixel2  pixel3  pixel4  pixel5  pixel6  pixel7  \\\n",
      "4754       8       0       0       0       0       0       0       0       0   \n",
      "21282      0       0       0       0       0       0       0       0       0   \n",
      "24090      3       0       0       0       0       0       0       0       0   \n",
      "743        5       0       0       0       0       0       0       0       0   \n",
      "23669      3       0       0       0       0       0       0       0       0   \n",
      "\n",
      "       pixel8  ...  pixel774  pixel775  pixel776  pixel777  pixel778  \\\n",
      "4754        0  ...         0         0         0         0         0   \n",
      "21282       0  ...         0         0         0         0         0   \n",
      "24090       0  ...         0         0         0         0         0   \n",
      "743         0  ...         0         0         0         0         0   \n",
      "23669       0  ...         0         0         0         0         0   \n",
      "\n",
      "       pixel779  pixel780  pixel781  pixel782  pixel783  \n",
      "4754          0         0         0         0         0  \n",
      "21282         0         0         0         0         0  \n",
      "24090         0         0         0         0         0  \n",
      "743           0         0         0         0         0  \n",
      "23669         0         0         0         0         0  \n",
      "\n",
      "[5 rows x 785 columns]\n"
     ]
    }
   ],
   "source": [
    "#6.look at the top 5 rows\n",
    "print(mf.iloc[:5])"
   ]
  },
  {
   "cell_type": "code",
   "execution_count": 20,
   "id": "be79ecf9-f37a-48a9-abce-d234bf2d695d",
   "metadata": {},
   "outputs": [
    {
     "name": "stdout",
     "output_type": "stream",
     "text": [
      "Unique class labels: [8 0 3 5 6 1 9 4 7 2]\n"
     ]
    }
   ],
   "source": [
    "#7.find no of unique class  labels\n",
    "unique_classes = mf['label'].unique()\n",
    "print(f\"Unique class labels: {unique_classes}\")\n"
   ]
  },
  {
   "cell_type": "code",
   "execution_count": 19,
   "id": "89831446-028c-4cda-82a3-dbd2d48d11d8",
   "metadata": {},
   "outputs": [
    {
     "name": "stdout",
     "output_type": "stream",
     "text": [
      "label\n",
      "1    459\n",
      "7    455\n",
      "3    444\n",
      "9    435\n",
      "6    432\n",
      "4    421\n",
      "0    409\n",
      "8    408\n",
      "2    369\n",
      "5    368\n",
      "Name: count, dtype: int64\n"
     ]
    }
   ],
   "source": [
    "#8.find the no of examples for each class label\n",
    "examples=mf['label'].value_counts()\n",
    "print(examples)"
   ]
  },
  {
   "cell_type": "code",
   "execution_count": 30,
   "id": "70042069-b25d-4d65-806b-88ee197055fc",
   "metadata": {},
   "outputs": [
    {
     "name": "stdout",
     "output_type": "stream",
     "text": [
      "       pixel0  pixel1  pixel2  pixel3  pixel4  pixel5  pixel6  pixel7  pixel8  \\\n",
      "4754        0       0       0       0       0       0       0       0       0   \n",
      "21282       0       0       0       0       0       0       0       0       0   \n",
      "24090       0       0       0       0       0       0       0       0       0   \n",
      "743         0       0       0       0       0       0       0       0       0   \n",
      "23669       0       0       0       0       0       0       0       0       0   \n",
      "...       ...     ...     ...     ...     ...     ...     ...     ...     ...   \n",
      "31938       0       0       0       0       0       0       0       0       0   \n",
      "15559       0       0       0       0       0       0       0       0       0   \n",
      "40587       0       0       0       0       0       0       0       0       0   \n",
      "36115       0       0       0       0       0       0       0       0       0   \n",
      "17458       0       0       0       0       0       0       0       0       0   \n",
      "\n",
      "       pixel9  ...  pixel774  pixel775  pixel776  pixel777  pixel778  \\\n",
      "4754        0  ...         0         0         0         0         0   \n",
      "21282       0  ...         0         0         0         0         0   \n",
      "24090       0  ...         0         0         0         0         0   \n",
      "743         0  ...         0         0         0         0         0   \n",
      "23669       0  ...         0         0         0         0         0   \n",
      "...       ...  ...       ...       ...       ...       ...       ...   \n",
      "31938       0  ...         0         0         0         0         0   \n",
      "15559       0  ...         0         0         0         0         0   \n",
      "40587       0  ...         0         0         0         0         0   \n",
      "36115       0  ...         0         0         0         0         0   \n",
      "17458       0  ...         0         0         0         0         0   \n",
      "\n",
      "       pixel779  pixel780  pixel781  pixel782  pixel783  \n",
      "4754          0         0         0         0         0  \n",
      "21282         0         0         0         0         0  \n",
      "24090         0         0         0         0         0  \n",
      "743           0         0         0         0         0  \n",
      "23669         0         0         0         0         0  \n",
      "...         ...       ...       ...       ...       ...  \n",
      "31938         0         0         0         0         0  \n",
      "15559         0         0         0         0         0  \n",
      "40587         0         0         0         0         0  \n",
      "36115         0         0         0         0         0  \n",
      "17458         0         0         0         0         0  \n",
      "\n",
      "[4200 rows x 784 columns]\n",
      "       label\n",
      "4754       8\n",
      "21282      0\n",
      "24090      3\n",
      "743        5\n",
      "23669      3\n",
      "...      ...\n",
      "31938      9\n",
      "15559      9\n",
      "40587      2\n",
      "36115      9\n",
      "17458      9\n",
      "\n",
      "[4200 rows x 1 columns]\n"
     ]
    }
   ],
   "source": [
    "#9.prepare x and y\n",
    "x= mf.drop('label', axis=1)\n",
    "y=mf[['label']]\n",
    "print(x)\n",
    "print(y)"
   ]
  },
  {
   "cell_type": "code",
   "execution_count": 51,
   "id": "fcbc3116-e919-49b9-bf09-1c864ec36c32",
   "metadata": {},
   "outputs": [
    {
     "data": {
      "image/png": "[encoded data removed]",
      "text/plain": [
       "<Figure size 640x480 with 1 Axes>"
      ]
     },
     "metadata": {},
     "output_type": "display_data"
    },
    {
     "data": {
      "image/png": "[encoded data removed]",
      "text/plain": [
       "<Figure size 640x480 with 1 Axes>"
      ]
     },
     "metadata": {},
     "output_type": "display_data"
    },
    {
     "data": {
      "image/png": "[encoded data removed]",
      "text/plain": [
       "<Figure size 640x480 with 1 Axes>"
      ]
     },
     "metadata": {},
     "output_type": "display_data"
    },
    {
     "data": {
      "image/png": "[encoded data removed]",
      "text/plain": [
       "<Figure size 640x480 with 1 Axes>"
      ]
     },
     "metadata": {},
     "output_type": "display_data"
    },
    {
     "data": {
      "image/png": "[encoded data removed]",
      "text/plain": [
       "<Figure size 640x480 with 1 Axes>"
      ]
     },
     "metadata": {},
     "output_type": "display_data"
    }
   ],
   "source": [
    "#10.Visualization the image of the first 5 digital in x also print the class label in\n",
    "import matplotlib.pyplot as plt\n",
    "for i in range(5):\n",
    " plt.imshow(df.iloc[i,1:].values.reshape(28,28),cmap='grey')\n",
    " plt.title(f\"label: {df.iloc[i,0]}\")\n",
    " plt.axis(\"off\")\n",
    " plt.show()   \n"
   ]
  },
  {
   "cell_type": "code",
   "execution_count": 40,
   "id": "1c7801b6-3acd-471b-81ba-c4867aedcf2e",
   "metadata": {},
   "outputs": [
    {
     "name": "stdout",
     "output_type": "stream",
     "text": [
      "       pixel0  pixel1  pixel2  pixel3  pixel4  pixel5  pixel6  pixel7  pixel8  \\\n",
      "22832       0       0       0       0       0       0       0       0       0   \n",
      "36109       0       0       0       0       0       0       0       0       0   \n",
      "41046       0       0       0       0       0       0       0       0       0   \n",
      "40577       0       0       0       0       0       0       0       0       0   \n",
      "17041       0       0       0       0       0       0       0       0       0   \n",
      "...       ...     ...     ...     ...     ...     ...     ...     ...     ...   \n",
      "23763       0       0       0       0       0       0       0       0       0   \n",
      "15315       0       0       0       0       0       0       0       0       0   \n",
      "40400       0       0       0       0       0       0       0       0       0   \n",
      "30021       0       0       0       0       0       0       0       0       0   \n",
      "25956       0       0       0       0       0       0       0       0       0   \n",
      "\n",
      "       pixel9  ...  pixel774  pixel775  pixel776  pixel777  pixel778  \\\n",
      "22832       0  ...         0         0         0         0         0   \n",
      "36109       0  ...         0         0         0         0         0   \n",
      "41046       0  ...         0         0         0         0         0   \n",
      "40577       0  ...         0         0         0         0         0   \n",
      "17041       0  ...         0         0         0         0         0   \n",
      "...       ...  ...       ...       ...       ...       ...       ...   \n",
      "23763       0  ...         0         0         0         0         0   \n",
      "15315       0  ...         0         0         0         0         0   \n",
      "40400       0  ...         0         0         0         0         0   \n",
      "30021       0  ...         0         0         0         0         0   \n",
      "25956       0  ...         0         0         0         0         0   \n",
      "\n",
      "       pixel779  pixel780  pixel781  pixel782  pixel783  \n",
      "22832         0         0         0         0         0  \n",
      "36109         0         0         0         0         0  \n",
      "41046         0         0         0         0         0  \n",
      "40577         0         0         0         0         0  \n",
      "17041         0         0         0         0         0  \n",
      "...         ...       ...       ...       ...       ...  \n",
      "23763         0         0         0         0         0  \n",
      "15315         0         0         0         0         0  \n",
      "40400         0         0         0         0         0  \n",
      "30021         0         0         0         0         0  \n",
      "25956         0         0         0         0         0  \n",
      "\n",
      "[1050 rows x 784 columns]\n",
      "       pixel0  pixel1  pixel2  pixel3  pixel4  pixel5  pixel6  pixel7  pixel8  \\\n",
      "29509       0       0       0       0       0       0       0       0       0   \n",
      "19836       0       0       0       0       0       0       0       0       0   \n",
      "29193       0       0       0       0       0       0       0       0       0   \n",
      "37579       0       0       0       0       0       0       0       0       0   \n",
      "17855       0       0       0       0       0       0       0       0       0   \n",
      "...       ...     ...     ...     ...     ...     ...     ...     ...     ...   \n",
      "20751       0       0       0       0       0       0       0       0       0   \n",
      "37071       0       0       0       0       0       0       0       0       0   \n",
      "29124       0       0       0       0       0       0       0       0       0   \n",
      "40477       0       0       0       0       0       0       0       0       0   \n",
      "13976       0       0       0       0       0       0       0       0       0   \n",
      "\n",
      "       pixel9  ...  pixel774  pixel775  pixel776  pixel777  pixel778  \\\n",
      "29509       0  ...         0         0         0         0         0   \n",
      "19836       0  ...         0         0         0         0         0   \n",
      "29193       0  ...         0         0         0         0         0   \n",
      "37579       0  ...         0         0         0         0         0   \n",
      "17855       0  ...         0         0         0         0         0   \n",
      "...       ...  ...       ...       ...       ...       ...       ...   \n",
      "20751       0  ...         0         0         0         0         0   \n",
      "37071       0  ...         0         0         0         0         0   \n",
      "29124       0  ...         0         0         0         0         0   \n",
      "40477       0  ...         0         0         0         0         0   \n",
      "13976       0  ...         0         0         0         0         0   \n",
      "\n",
      "       pixel779  pixel780  pixel781  pixel782  pixel783  \n",
      "29509         0         0         0         0         0  \n",
      "19836         0         0         0         0         0  \n",
      "29193         0         0         0         0         0  \n",
      "37579         0         0         0         0         0  \n",
      "17855         0         0         0         0         0  \n",
      "...         ...       ...       ...       ...       ...  \n",
      "20751         0         0         0         0         0  \n",
      "37071         0         0         0         0         0  \n",
      "29124         0         0         0         0         0  \n",
      "40477         0         0         0         0         0  \n",
      "13976         0         0         0         0         0  \n",
      "\n",
      "[3150 rows x 784 columns]\n"
     ]
    }
   ],
   "source": [
    "#11.split the train dataset into training set 75% and validation set 25%\n",
    "import pandas as pd\n",
    "from sklearn.model_selection import train_test_split\n",
    "x_train, x_val, y_train, y_val = train_test_split(x, y, test_size=0.25, random_state=42)\n",
    "print(x_val)\n",
    "print(x_train)"
   ]
  },
  {
   "cell_type": "code",
   "execution_count": null,
   "id": "1694c700-a513-48bf-8f4c-e4298fb7118e",
   "metadata": {},
   "outputs": [],
   "source": [
    "#12.fit KNN classifier to training data\n"
   ]
  }
 ],
 "metadata": {
  "kernelspec": {
   "display_name": "Python 3 (ipykernel)",
   "language": "python",
   "name": "python3"
  },
  "language_info": {
   "codemirror_mode": {
    "name": "ipython",
    "version": 3
   },
   "file_extension": ".py",
   "mimetype": "text/x-python",
   "name": "python",
   "nbconvert_exporter": "python",
   "pygments_lexer": "ipython3",
   "version": "3.10.12"
  }
 },
 "nbformat": 4,
 "nbformat_minor": 5
}
