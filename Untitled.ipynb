{
 "cells": [
  {
   "cell_type": "code",
   "execution_count": 2,
   "id": "0bafa28e-6ea4-4ca3-a7df-d71f70a8f8df",
   "metadata": {},
   "outputs": [
    {
     "name": "stdout",
     "output_type": "stream",
     "text": [
      "Original: ['red', 'green', 'blue', 'green', 'red']\n",
      "Label Encoded: [2 1 0 1 2]\n"
     ]
    }
   ],
   "source": [
    "from sklearn.preprocessing import LabelEncoder\n",
    "\n",
    "# Sample data\n",
    "data = ['red', 'green', 'blue', 'green', 'red']\n",
    "\n",
    "# Initialize encoder\n",
    "label_encoder = LabelEncoder()\n",
    "\n",
    "# Fit and transform data\n",
    "encoded_labels = label_encoder.fit_transform(data)\n",
    "\n",
    "print(\"Original:\", data)\n",
    "print(\"Label Encoded:\", encoded_labels)"
   ]
  },
  {
   "cell_type": "code",
   "execution_count": 4,
   "id": "3304f8ab-9b3b-4a3a-b247-7a37a7a62a28",
   "metadata": {},
   "outputs": [
    {
     "name": "stdout",
     "output_type": "stream",
     "text": [
      "Original:\n",
      " ['red' 'green' 'blue' 'green' 'red']\n",
      "One Hot Encoded:\n",
      " <Compressed Sparse Row sparse matrix of dtype 'float64'\n",
      "\twith 5 stored elements and shape (5, 3)>\n",
      "  Coords\tValues\n",
      "  (0, 2)\t1.0\n",
      "  (1, 1)\t1.0\n",
      "  (2, 0)\t1.0\n",
      "  (3, 1)\t1.0\n",
      "  (4, 2)\t1.0\n"
     ]
    }
   ],
   "source": [
    "from sklearn.preprocessing import OneHotEncoder\n",
    "import numpy as np\n",
    "\n",
    "# Sample data reshaped as a column vector\n",
    "data = np.array(['red', 'green', 'blue', 'green', 'red']).reshape(-1, 1)\n",
    "\n",
    "# Initialize encoder\n",
    "one_hot_encoder = OneHotEncoder()\n",
    "\n",
    "# Fit and transform data\n",
    "encoded_onehot = one_hot_encoder.fit_transform(data)\n",
    "\n",
    "print(\"Original:\\n\", data.ravel())\n",
    "print(\"One Hot Encoded:\\n\", encoded_onehot)"
   ]
  },
  {
   "cell_type": "code",
   "execution_count": null,
   "id": "140f179f-1b52-4f3f-a924-5edad81c0961",
   "metadata": {},
   "outputs": [],
   "source": []
  },
  {
   "cell_type": "code",
   "execution_count": null,
   "id": "54e9584b-18d1-402c-9f7a-b657618a3767",
   "metadata": {},
   "outputs": [],
   "source": []
  }
 ],
 "metadata": {
  "kernelspec": {
   "display_name": "Python 3 (ipykernel)",
   "language": "python",
   "name": "python3"
  },
  "language_info": {
   "codemirror_mode": {
    "name": "ipython",
    "version": 3
   },
   "file_extension": ".py",
   "mimetype": "text/x-python",
   "name": "python",
   "nbconvert_exporter": "python",
   "pygments_lexer": "ipython3",
   "version": "3.13.2"
  }
 },
 "nbformat": 4,
 "nbformat_minor": 5
}
